{
 "cells": [
  {
   "cell_type": "code",
   "execution_count": 1,
   "metadata": {},
   "outputs": [],
   "source": [
    "# library\n",
    "import numpy as np\n",
    "import pandas as pd\n",
    "import plotly.express as px\n",
    "\n",
    "import json\n",
    "\n",
    "site_list = [\"foxnews_science\", \"newsweek_science\", \"slate_science\", \"washingtontimes_science\", \"theatlantic_science\"] \n",
    "# nothing is in cnn science"
   ]
  },
  {
   "cell_type": "code",
   "execution_count": 6,
   "metadata": {},
   "outputs": [],
   "source": [
    "def cleanDF(df):\n",
    "    # clean the data\n",
    "    # drop the main text that is empty\n",
    "    df = df.dropna(subset=[\"maintext\"])\n",
    "\n",
    "    # drop the duplicates\n",
    "    df = df.drop_duplicates(subset=[\"maintext\"])\n",
    "\n",
    "    # add a new column based on the wayback_id\n",
    "    df[\"wayback_time\"] = pd.to_datetime((df[\"wayback_id\"]).astype(str).str[:8], format='%Y%m%d', errors='coerce')\n",
    "\n",
    "    # add a new column based on the length of the main text\n",
    "    df[\"text_len\"] = df[\"maintext\"].apply(lambda x: len(x))\n",
    "\n",
    "    df.drop(columns=[\"wayback_id\"], inplace=True)\n",
    "\n",
    "    # sort\n",
    "    df = df.sort_values(by=\"wayback_time\", ascending=True)\n",
    "\n",
    "    # print(df.describe())\n",
    "    # print(df.head())\n",
    "    # df.head()\n",
    "    return df"
   ]
  },
  {
   "cell_type": "code",
   "execution_count": 15,
   "metadata": {},
   "outputs": [],
   "source": [
    "def open_article_json(file_path):\n",
    "    with open(file_path) as f:\n",
    "        json_data = json.load(f)\n",
    "    data = [{\"url\": url, **details} for url, details in json_data.items() if details is not None]\n",
    "    df = pd.DataFrame(data)\n",
    "    df = df[[\"title\", \"authors\", \"url\", \"date_publish\", \"description\", \"maintext\", \"wayback_id\"]]\n",
    "    df[\"category\"] = \"Science\"\n",
    "    return df"
   ]
  },
  {
   "cell_type": "code",
   "execution_count": 16,
   "metadata": {},
   "outputs": [],
   "source": [
    "for site in site_list:  \n",
    "    file_path = f\"./data/{site}/articles.json\"\n",
    "    df = open_article_json(file_path)\n",
    "    df = cleanDF(df)\n",
    "    df.to_json(f\"./data/{site}/{site}_categorized.json\", orient='records', lines=True)"
   ]
  },
  {
   "cell_type": "code",
   "execution_count": null,
   "metadata": {},
   "outputs": [],
   "source": []
  }
 ],
 "metadata": {
  "kernelspec": {
   "display_name": ".venv",
   "language": "python",
   "name": "python3"
  },
  "language_info": {
   "codemirror_mode": {
    "name": "ipython",
    "version": 3
   },
   "file_extension": ".py",
   "mimetype": "text/x-python",
   "name": "python",
   "nbconvert_exporter": "python",
   "pygments_lexer": "ipython3",
   "version": "3.12.1"
  }
 },
 "nbformat": 4,
 "nbformat_minor": 2
}
