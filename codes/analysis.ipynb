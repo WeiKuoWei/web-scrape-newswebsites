{
 "cells": [
  {
   "cell_type": "code",
   "execution_count": 1,
   "metadata": {},
   "outputs": [],
   "source": [
    "# library\n",
    "import numpy as np\n",
    "import pandas as pd\n",
    "import plotly.express as px\n",
    "\n",
    "import json\n",
    "\n",
    "site_list = [\"bbc\", \"cnn\", \"foxnews\", \"nationalreview\"]"
   ]
  },
  {
   "cell_type": "code",
   "execution_count": 2,
   "metadata": {},
   "outputs": [],
   "source": [
    "def open_json(file_path):\n",
    "    with open(file_path, \"r\") as f:\n",
    "        data = json.load(f)\n",
    "    # return data \n",
    "\n",
    "    # file_path = \"data/\" + site_list[0] + \"/articles.json\"\n",
    "\n",
    "    # json_data = open_json(file_path)\n",
    "    data = [{\"url\": url, **details} for url, details in data.items() if details is not None]\n",
    "    df = pd.DataFrame(data)\n",
    "\n",
    "    df_json = df[[\"title\", \"authors\", \"url\", \"date_publish\", \"description\", \"maintext\", \"wayback_id\"]]\n",
    "    # df_json.describe()\n",
    "    return df_json"
   ]
  },
  {
   "cell_type": "code",
   "execution_count": 3,
   "metadata": {},
   "outputs": [],
   "source": [
    "def open_csv(file_path):\n",
    "    df = pd.read_csv(file_path, header=None, encoding='utf-8')\n",
    "\n",
    "    # convert the first column to datetime\n",
    "    df[3] = pd.to_datetime((df[0]).astype(str).str[:8], format=\"%Y%m%d\", errors='coerce')\n",
    "\n",
    "    df.columns = ['id','url','status','wayback_time']\n",
    "    \n",
    "    df['year_week'] = df['wayback_time'].dt.strftime('%Y-%U')\n",
    "    df['week_start_date'] = pd.to_datetime(df['year_week'] + '-0', format='%Y-%U-%w')\n",
    "\n",
    "    # sort the dataframe by date\n",
    "    df_weekly = df.groupby('week_start_date')['url'].count().reset_index()\n",
    "    df_year_week = df.groupby('year_week').count().reset_index()\n",
    "    df_year_week.sort_values('year_week', inplace=True)\n",
    "\n",
    "    \n",
    "    return df"
   ]
  },
  {
   "cell_type": "code",
   "execution_count": 4,
   "metadata": {},
   "outputs": [],
   "source": [
    "def cleanDF(df_json):\n",
    "    # clean the data\n",
    "    # drop the main text that is empty\n",
    "    df_json = df_json.dropna(subset=[\"maintext\"])\n",
    "\n",
    "    # drop the duplicates\n",
    "    df_json = df_json.drop_duplicates(subset=[\"maintext\"])\n",
    "\n",
    "    # add a new column based on the wayback_id\n",
    "    df_json[\"wayback_time\"] = pd.to_datetime((df_json[\"wayback_id\"]).astype(str).str[:8], format='%Y%m%d', errors='coerce')\n",
    "\n",
    "    # add a new column based on the length of the main text\n",
    "    df_json[\"text_len\"] = df_json[\"maintext\"].apply(lambda x: len(x))\n",
    "\n",
    "    df_json.drop(columns=[\"wayback_id\"], inplace=True)\n",
    "\n",
    "    # sort\n",
    "    df_json = df_json.sort_values(by=\"wayback_time\", ascending=True)\n",
    "\n",
    "    # print(df_json.describe())\n",
    "    # print(df_json.head())\n",
    "    # print(df_json.head())\n",
    "    return df_json"
   ]
  },
  {
   "cell_type": "code",
   "execution_count": 5,
   "metadata": {},
   "outputs": [],
   "source": [
    "# filter the data back on title "
   ]
  },
  {
   "cell_type": "code",
   "execution_count": 6,
   "metadata": {},
   "outputs": [],
   "source": [
    "def graphDF(df_json, df_csv, site):\n",
    "    # Preprocess df_json\n",
    "    df_json['year_week'] = df_json['wayback_time'].dt.strftime('%Y-%U')\n",
    "    df_json['week_start_date'] = pd.to_datetime(df_json['year_week'] + '-0', format='%Y-%U-%w')\n",
    "    df_json_weekly = df_json.groupby('week_start_date')['title'].count().reset_index()\n",
    "    df_json_weekly.rename(columns={'title': 'json_count'}, inplace=True)\n",
    "\n",
    "    # Preprocess df_csv (assuming similar structure and column names as df_json)\n",
    "    df_csv['year_week'] = df_csv['wayback_time'].dt.strftime('%Y-%U')\n",
    "    df_csv['week_start_date'] = pd.to_datetime(df_csv['year_week'] + '-0', format='%Y-%U-%w')\n",
    "    df_csv_weekly = df_csv.groupby('week_start_date')['url'].count().reset_index()\n",
    "    df_csv_weekly.rename(columns={'url': 'csv_count'}, inplace=True)\n",
    "\n",
    "    # Merge the two dataframes\n",
    "    df_merged = pd.merge(df_json_weekly, df_csv_weekly, on='week_start_date', how='outer').fillna(0)\n",
    "\n",
    "    # Plotting\n",
    "    fig = px.line(\n",
    "        df_merged,\n",
    "        x='week_start_date',\n",
    "        y=['json_count', 'csv_count'],\n",
    "        labels={'week_start_date': 'Week Starting', 'value': 'Number of Articles', 'variable': 'Source'},\n",
    "        template='seaborn'\n",
    "    )\n",
    "\n",
    "    fig.update_layout(\n",
    "        xaxis_title='Week Starting',\n",
    "        yaxis_title='Number of Articles',\n",
    "        title=f'Number of Articles per Week for {site}',\n",
    "        title_x=0.5,\n",
    "        legend_title='Source',\n",
    "        legend=dict(yanchor=\"top\", y=0.99, xanchor=\"left\", x=0.01)\n",
    "    )\n",
    "\n",
    "    fig.show()\n",
    "\n",
    "# Example usage\n",
    "# graphDF(df_json, df_csv, 'Example Site')\n"
   ]
  },
  {
   "cell_type": "code",
   "execution_count": null,
   "metadata": {},
   "outputs": [],
   "source": [
    "for site in site_list:\n",
    "    file_path_json = \"data/\" + site + \"/articles.json\"\n",
    "    df_json = open_json(file_path_json)\n",
    "    df_json = cleanDF(df_json)\n",
    "\n",
    "    file_path_csv = \"data/\" + site + \"/urls_cleaned.csv\"\n",
    "    df_csv = open_csv(file_path_csv)\n",
    "    \n",
    "    graphDF(df_json, df_csv, site)\n",
    "    print(\"done\")\n",
    "\n",
    "    # save the file\n",
    "    # df_json.to_csv(\"data/articles_all/articles\" + site +\".csv\", index=False)\n",
    "    df_json.to_json(\"data/articles_all/articles\" + site +\".json\", orient='records', lines=True)"
   ]
  },
  {
   "cell_type": "code",
   "execution_count": 8,
   "metadata": {},
   "outputs": [
    {
     "data": {
      "application/vnd.plotly.v1+json": {
       "config": {
        "plotlyServerURL": "https://plot.ly"
       },
       "data": [
        {
         "hovertemplate": "Source=json_count<br>Week Starting=%{x}<br>Number of Articles=%{y}<extra></extra>",
         "legendgroup": "json_count",
         "line": {
          "color": "rgb(76,114,176)",
          "dash": "solid"
         },
         "marker": {
          "symbol": "circle"
         },
         "mode": "lines",
         "name": "json_count",
         "orientation": "v",
         "showlegend": true,
         "type": "scatter",
         "x": [
          "2021-12-26T00:00:00",
          "2022-01-02T00:00:00",
          "2022-01-09T00:00:00",
          "2022-01-16T00:00:00",
          "2022-01-23T00:00:00",
          "2022-01-30T00:00:00",
          "2022-02-06T00:00:00",
          "2022-02-13T00:00:00",
          "2022-02-20T00:00:00",
          "2022-02-27T00:00:00",
          "2022-03-06T00:00:00",
          "2022-03-13T00:00:00",
          "2022-03-20T00:00:00",
          "2022-03-27T00:00:00",
          "2022-04-03T00:00:00",
          "2022-04-10T00:00:00",
          "2022-04-17T00:00:00",
          "2022-04-24T00:00:00",
          "2022-05-01T00:00:00",
          "2022-05-08T00:00:00",
          "2022-05-15T00:00:00",
          "2022-05-22T00:00:00",
          "2022-05-29T00:00:00",
          "2022-06-05T00:00:00",
          "2022-06-12T00:00:00",
          "2022-06-19T00:00:00",
          "2022-06-26T00:00:00",
          "2022-07-03T00:00:00",
          "2022-07-10T00:00:00",
          "2022-07-17T00:00:00",
          "2022-07-24T00:00:00",
          "2022-07-31T00:00:00",
          "2022-08-07T00:00:00",
          "2022-08-14T00:00:00",
          "2022-08-21T00:00:00",
          "2022-08-28T00:00:00",
          "2022-09-04T00:00:00",
          "2022-09-11T00:00:00",
          "2022-09-18T00:00:00",
          "2022-09-25T00:00:00",
          "2022-10-02T00:00:00",
          "2022-10-09T00:00:00",
          "2022-10-16T00:00:00",
          "2022-10-23T00:00:00",
          "2022-10-30T00:00:00",
          "2022-11-06T00:00:00",
          "2022-11-13T00:00:00",
          "2022-11-20T00:00:00",
          "2022-11-27T00:00:00",
          "2022-12-04T00:00:00",
          "2022-12-11T00:00:00",
          "2022-12-18T00:00:00",
          "2022-12-25T00:00:00",
          "2023-01-01T00:00:00",
          "2023-01-08T00:00:00",
          "2023-01-15T00:00:00",
          "2023-01-22T00:00:00",
          "2023-01-29T00:00:00",
          "2023-02-05T00:00:00",
          "2023-02-12T00:00:00",
          "2023-02-19T00:00:00"
         ],
         "xaxis": "x",
         "y": [
          7,
          38,
          48,
          26,
          27,
          40,
          31,
          49,
          30,
          37,
          36,
          37,
          40,
          44,
          50,
          33,
          35,
          57,
          37,
          39,
          39,
          31,
          26,
          38,
          34,
          49,
          42,
          27,
          33,
          42,
          51,
          53,
          42,
          46,
          35,
          36,
          42,
          33,
          40,
          48,
          51,
          66,
          36,
          45,
          37,
          44,
          38,
          44,
          29,
          56,
          41,
          49,
          41,
          35,
          50,
          46,
          42,
          44,
          64,
          49,
          43
         ],
         "yaxis": "y"
        },
        {
         "hovertemplate": "Source=csv_count<br>Week Starting=%{x}<br>Number of Articles=%{y}<extra></extra>",
         "legendgroup": "csv_count",
         "line": {
          "color": "rgb(221,132,82)",
          "dash": "solid"
         },
         "marker": {
          "symbol": "circle"
         },
         "mode": "lines",
         "name": "csv_count",
         "orientation": "v",
         "showlegend": true,
         "type": "scatter",
         "x": [
          "2021-12-26T00:00:00",
          "2022-01-02T00:00:00",
          "2022-01-09T00:00:00",
          "2022-01-16T00:00:00",
          "2022-01-23T00:00:00",
          "2022-01-30T00:00:00",
          "2022-02-06T00:00:00",
          "2022-02-13T00:00:00",
          "2022-02-20T00:00:00",
          "2022-02-27T00:00:00",
          "2022-03-06T00:00:00",
          "2022-03-13T00:00:00",
          "2022-03-20T00:00:00",
          "2022-03-27T00:00:00",
          "2022-04-03T00:00:00",
          "2022-04-10T00:00:00",
          "2022-04-17T00:00:00",
          "2022-04-24T00:00:00",
          "2022-05-01T00:00:00",
          "2022-05-08T00:00:00",
          "2022-05-15T00:00:00",
          "2022-05-22T00:00:00",
          "2022-05-29T00:00:00",
          "2022-06-05T00:00:00",
          "2022-06-12T00:00:00",
          "2022-06-19T00:00:00",
          "2022-06-26T00:00:00",
          "2022-07-03T00:00:00",
          "2022-07-10T00:00:00",
          "2022-07-17T00:00:00",
          "2022-07-24T00:00:00",
          "2022-07-31T00:00:00",
          "2022-08-07T00:00:00",
          "2022-08-14T00:00:00",
          "2022-08-21T00:00:00",
          "2022-08-28T00:00:00",
          "2022-09-04T00:00:00",
          "2022-09-11T00:00:00",
          "2022-09-18T00:00:00",
          "2022-09-25T00:00:00",
          "2022-10-02T00:00:00",
          "2022-10-09T00:00:00",
          "2022-10-16T00:00:00",
          "2022-10-23T00:00:00",
          "2022-10-30T00:00:00",
          "2022-11-06T00:00:00",
          "2022-11-13T00:00:00",
          "2022-11-20T00:00:00",
          "2022-11-27T00:00:00",
          "2022-12-04T00:00:00",
          "2022-12-11T00:00:00",
          "2022-12-18T00:00:00",
          "2022-12-25T00:00:00",
          "2023-01-01T00:00:00",
          "2023-01-08T00:00:00",
          "2023-01-15T00:00:00",
          "2023-01-22T00:00:00",
          "2023-01-29T00:00:00",
          "2023-02-05T00:00:00",
          "2023-02-12T00:00:00",
          "2023-02-19T00:00:00"
         ],
         "xaxis": "x",
         "y": [
          19,
          56,
          58,
          29,
          33,
          47,
          38,
          57,
          35,
          40,
          40,
          39,
          42,
          47,
          57,
          34,
          38,
          61,
          40,
          39,
          41,
          31,
          26,
          38,
          35,
          49,
          45,
          27,
          33,
          44,
          51,
          53,
          42,
          47,
          35,
          36,
          43,
          34,
          40,
          48,
          52,
          68,
          36,
          46,
          37,
          45,
          38,
          44,
          31,
          56,
          41,
          49,
          42,
          37,
          52,
          46,
          43,
          44,
          66,
          49,
          43
         ],
         "yaxis": "y"
        }
       ],
       "layout": {
        "legend": {
         "title": {
          "text": "Source"
         },
         "tracegroupgap": 0,
         "x": 0.01,
         "xanchor": "left",
         "y": 0.99,
         "yanchor": "top"
        },
        "margin": {
         "t": 60
        },
        "template": {
         "data": {
          "bar": [
           {
            "error_x": {
             "color": "rgb(36,36,36)"
            },
            "error_y": {
             "color": "rgb(36,36,36)"
            },
            "marker": {
             "line": {
              "color": "rgb(234,234,242)",
              "width": 0.5
             },
             "pattern": {
              "fillmode": "overlay",
              "size": 10,
              "solidity": 0.2
             }
            },
            "type": "bar"
           }
          ],
          "barpolar": [
           {
            "marker": {
             "line": {
              "color": "rgb(234,234,242)",
              "width": 0.5
             },
             "pattern": {
              "fillmode": "overlay",
              "size": 10,
              "solidity": 0.2
             }
            },
            "type": "barpolar"
           }
          ],
          "carpet": [
           {
            "aaxis": {
             "endlinecolor": "rgb(36,36,36)",
             "gridcolor": "white",
             "linecolor": "white",
             "minorgridcolor": "white",
             "startlinecolor": "rgb(36,36,36)"
            },
            "baxis": {
             "endlinecolor": "rgb(36,36,36)",
             "gridcolor": "white",
             "linecolor": "white",
             "minorgridcolor": "white",
             "startlinecolor": "rgb(36,36,36)"
            },
            "type": "carpet"
           }
          ],
          "choropleth": [
           {
            "colorbar": {
             "outlinewidth": 0,
             "tickcolor": "rgb(36,36,36)",
             "ticklen": 8,
             "ticks": "outside",
             "tickwidth": 2
            },
            "type": "choropleth"
           }
          ],
          "contour": [
           {
            "colorbar": {
             "outlinewidth": 0,
             "tickcolor": "rgb(36,36,36)",
             "ticklen": 8,
             "ticks": "outside",
             "tickwidth": 2
            },
            "colorscale": [
             [
              0,
              "rgb(2,4,25)"
             ],
             [
              0.06274509803921569,
              "rgb(24,15,41)"
             ],
             [
              0.12549019607843137,
              "rgb(47,23,57)"
             ],
             [
              0.18823529411764706,
              "rgb(71,28,72)"
             ],
             [
              0.25098039215686274,
              "rgb(97,30,82)"
             ],
             [
              0.3137254901960784,
              "rgb(123,30,89)"
             ],
             [
              0.3764705882352941,
              "rgb(150,27,91)"
             ],
             [
              0.4392156862745098,
              "rgb(177,22,88)"
             ],
             [
              0.5019607843137255,
              "rgb(203,26,79)"
             ],
             [
              0.5647058823529412,
              "rgb(223,47,67)"
             ],
             [
              0.6274509803921569,
              "rgb(236,76,61)"
             ],
             [
              0.6901960784313725,
              "rgb(242,107,73)"
             ],
             [
              0.7529411764705882,
              "rgb(244,135,95)"
             ],
             [
              0.8156862745098039,
              "rgb(245,162,122)"
             ],
             [
              0.8784313725490196,
              "rgb(246,188,153)"
             ],
             [
              0.9411764705882353,
              "rgb(247,212,187)"
             ],
             [
              1,
              "rgb(250,234,220)"
             ]
            ],
            "type": "contour"
           }
          ],
          "contourcarpet": [
           {
            "colorbar": {
             "outlinewidth": 0,
             "tickcolor": "rgb(36,36,36)",
             "ticklen": 8,
             "ticks": "outside",
             "tickwidth": 2
            },
            "type": "contourcarpet"
           }
          ],
          "heatmap": [
           {
            "colorbar": {
             "outlinewidth": 0,
             "tickcolor": "rgb(36,36,36)",
             "ticklen": 8,
             "ticks": "outside",
             "tickwidth": 2
            },
            "colorscale": [
             [
              0,
              "rgb(2,4,25)"
             ],
             [
              0.06274509803921569,
              "rgb(24,15,41)"
             ],
             [
              0.12549019607843137,
              "rgb(47,23,57)"
             ],
             [
              0.18823529411764706,
              "rgb(71,28,72)"
             ],
             [
              0.25098039215686274,
              "rgb(97,30,82)"
             ],
             [
              0.3137254901960784,
              "rgb(123,30,89)"
             ],
             [
              0.3764705882352941,
              "rgb(150,27,91)"
             ],
             [
              0.4392156862745098,
              "rgb(177,22,88)"
             ],
             [
              0.5019607843137255,
              "rgb(203,26,79)"
             ],
             [
              0.5647058823529412,
              "rgb(223,47,67)"
             ],
             [
              0.6274509803921569,
              "rgb(236,76,61)"
             ],
             [
              0.6901960784313725,
              "rgb(242,107,73)"
             ],
             [
              0.7529411764705882,
              "rgb(244,135,95)"
             ],
             [
              0.8156862745098039,
              "rgb(245,162,122)"
             ],
             [
              0.8784313725490196,
              "rgb(246,188,153)"
             ],
             [
              0.9411764705882353,
              "rgb(247,212,187)"
             ],
             [
              1,
              "rgb(250,234,220)"
             ]
            ],
            "type": "heatmap"
           }
          ],
          "heatmapgl": [
           {
            "colorbar": {
             "outlinewidth": 0,
             "tickcolor": "rgb(36,36,36)",
             "ticklen": 8,
             "ticks": "outside",
             "tickwidth": 2
            },
            "colorscale": [
             [
              0,
              "rgb(2,4,25)"
             ],
             [
              0.06274509803921569,
              "rgb(24,15,41)"
             ],
             [
              0.12549019607843137,
              "rgb(47,23,57)"
             ],
             [
              0.18823529411764706,
              "rgb(71,28,72)"
             ],
             [
              0.25098039215686274,
              "rgb(97,30,82)"
             ],
             [
              0.3137254901960784,
              "rgb(123,30,89)"
             ],
             [
              0.3764705882352941,
              "rgb(150,27,91)"
             ],
             [
              0.4392156862745098,
              "rgb(177,22,88)"
             ],
             [
              0.5019607843137255,
              "rgb(203,26,79)"
             ],
             [
              0.5647058823529412,
              "rgb(223,47,67)"
             ],
             [
              0.6274509803921569,
              "rgb(236,76,61)"
             ],
             [
              0.6901960784313725,
              "rgb(242,107,73)"
             ],
             [
              0.7529411764705882,
              "rgb(244,135,95)"
             ],
             [
              0.8156862745098039,
              "rgb(245,162,122)"
             ],
             [
              0.8784313725490196,
              "rgb(246,188,153)"
             ],
             [
              0.9411764705882353,
              "rgb(247,212,187)"
             ],
             [
              1,
              "rgb(250,234,220)"
             ]
            ],
            "type": "heatmapgl"
           }
          ],
          "histogram": [
           {
            "marker": {
             "pattern": {
              "fillmode": "overlay",
              "size": 10,
              "solidity": 0.2
             }
            },
            "type": "histogram"
           }
          ],
          "histogram2d": [
           {
            "colorbar": {
             "outlinewidth": 0,
             "tickcolor": "rgb(36,36,36)",
             "ticklen": 8,
             "ticks": "outside",
             "tickwidth": 2
            },
            "colorscale": [
             [
              0,
              "rgb(2,4,25)"
             ],
             [
              0.06274509803921569,
              "rgb(24,15,41)"
             ],
             [
              0.12549019607843137,
              "rgb(47,23,57)"
             ],
             [
              0.18823529411764706,
              "rgb(71,28,72)"
             ],
             [
              0.25098039215686274,
              "rgb(97,30,82)"
             ],
             [
              0.3137254901960784,
              "rgb(123,30,89)"
             ],
             [
              0.3764705882352941,
              "rgb(150,27,91)"
             ],
             [
              0.4392156862745098,
              "rgb(177,22,88)"
             ],
             [
              0.5019607843137255,
              "rgb(203,26,79)"
             ],
             [
              0.5647058823529412,
              "rgb(223,47,67)"
             ],
             [
              0.6274509803921569,
              "rgb(236,76,61)"
             ],
             [
              0.6901960784313725,
              "rgb(242,107,73)"
             ],
             [
              0.7529411764705882,
              "rgb(244,135,95)"
             ],
             [
              0.8156862745098039,
              "rgb(245,162,122)"
             ],
             [
              0.8784313725490196,
              "rgb(246,188,153)"
             ],
             [
              0.9411764705882353,
              "rgb(247,212,187)"
             ],
             [
              1,
              "rgb(250,234,220)"
             ]
            ],
            "type": "histogram2d"
           }
          ],
          "histogram2dcontour": [
           {
            "colorbar": {
             "outlinewidth": 0,
             "tickcolor": "rgb(36,36,36)",
             "ticklen": 8,
             "ticks": "outside",
             "tickwidth": 2
            },
            "colorscale": [
             [
              0,
              "rgb(2,4,25)"
             ],
             [
              0.06274509803921569,
              "rgb(24,15,41)"
             ],
             [
              0.12549019607843137,
              "rgb(47,23,57)"
             ],
             [
              0.18823529411764706,
              "rgb(71,28,72)"
             ],
             [
              0.25098039215686274,
              "rgb(97,30,82)"
             ],
             [
              0.3137254901960784,
              "rgb(123,30,89)"
             ],
             [
              0.3764705882352941,
              "rgb(150,27,91)"
             ],
             [
              0.4392156862745098,
              "rgb(177,22,88)"
             ],
             [
              0.5019607843137255,
              "rgb(203,26,79)"
             ],
             [
              0.5647058823529412,
              "rgb(223,47,67)"
             ],
             [
              0.6274509803921569,
              "rgb(236,76,61)"
             ],
             [
              0.6901960784313725,
              "rgb(242,107,73)"
             ],
             [
              0.7529411764705882,
              "rgb(244,135,95)"
             ],
             [
              0.8156862745098039,
              "rgb(245,162,122)"
             ],
             [
              0.8784313725490196,
              "rgb(246,188,153)"
             ],
             [
              0.9411764705882353,
              "rgb(247,212,187)"
             ],
             [
              1,
              "rgb(250,234,220)"
             ]
            ],
            "type": "histogram2dcontour"
           }
          ],
          "mesh3d": [
           {
            "colorbar": {
             "outlinewidth": 0,
             "tickcolor": "rgb(36,36,36)",
             "ticklen": 8,
             "ticks": "outside",
             "tickwidth": 2
            },
            "type": "mesh3d"
           }
          ],
          "parcoords": [
           {
            "line": {
             "colorbar": {
              "outlinewidth": 0,
              "tickcolor": "rgb(36,36,36)",
              "ticklen": 8,
              "ticks": "outside",
              "tickwidth": 2
             }
            },
            "type": "parcoords"
           }
          ],
          "pie": [
           {
            "automargin": true,
            "type": "pie"
           }
          ],
          "scatter": [
           {
            "fillpattern": {
             "fillmode": "overlay",
             "size": 10,
             "solidity": 0.2
            },
            "type": "scatter"
           }
          ],
          "scatter3d": [
           {
            "line": {
             "colorbar": {
              "outlinewidth": 0,
              "tickcolor": "rgb(36,36,36)",
              "ticklen": 8,
              "ticks": "outside",
              "tickwidth": 2
             }
            },
            "marker": {
             "colorbar": {
              "outlinewidth": 0,
              "tickcolor": "rgb(36,36,36)",
              "ticklen": 8,
              "ticks": "outside",
              "tickwidth": 2
             }
            },
            "type": "scatter3d"
           }
          ],
          "scattercarpet": [
           {
            "marker": {
             "colorbar": {
              "outlinewidth": 0,
              "tickcolor": "rgb(36,36,36)",
              "ticklen": 8,
              "ticks": "outside",
              "tickwidth": 2
             }
            },
            "type": "scattercarpet"
           }
          ],
          "scattergeo": [
           {
            "marker": {
             "colorbar": {
              "outlinewidth": 0,
              "tickcolor": "rgb(36,36,36)",
              "ticklen": 8,
              "ticks": "outside",
              "tickwidth": 2
             }
            },
            "type": "scattergeo"
           }
          ],
          "scattergl": [
           {
            "marker": {
             "colorbar": {
              "outlinewidth": 0,
              "tickcolor": "rgb(36,36,36)",
              "ticklen": 8,
              "ticks": "outside",
              "tickwidth": 2
             }
            },
            "type": "scattergl"
           }
          ],
          "scattermapbox": [
           {
            "marker": {
             "colorbar": {
              "outlinewidth": 0,
              "tickcolor": "rgb(36,36,36)",
              "ticklen": 8,
              "ticks": "outside",
              "tickwidth": 2
             }
            },
            "type": "scattermapbox"
           }
          ],
          "scatterpolar": [
           {
            "marker": {
             "colorbar": {
              "outlinewidth": 0,
              "tickcolor": "rgb(36,36,36)",
              "ticklen": 8,
              "ticks": "outside",
              "tickwidth": 2
             }
            },
            "type": "scatterpolar"
           }
          ],
          "scatterpolargl": [
           {
            "marker": {
             "colorbar": {
              "outlinewidth": 0,
              "tickcolor": "rgb(36,36,36)",
              "ticklen": 8,
              "ticks": "outside",
              "tickwidth": 2
             }
            },
            "type": "scatterpolargl"
           }
          ],
          "scatterternary": [
           {
            "marker": {
             "colorbar": {
              "outlinewidth": 0,
              "tickcolor": "rgb(36,36,36)",
              "ticklen": 8,
              "ticks": "outside",
              "tickwidth": 2
             }
            },
            "type": "scatterternary"
           }
          ],
          "surface": [
           {
            "colorbar": {
             "outlinewidth": 0,
             "tickcolor": "rgb(36,36,36)",
             "ticklen": 8,
             "ticks": "outside",
             "tickwidth": 2
            },
            "colorscale": [
             [
              0,
              "rgb(2,4,25)"
             ],
             [
              0.06274509803921569,
              "rgb(24,15,41)"
             ],
             [
              0.12549019607843137,
              "rgb(47,23,57)"
             ],
             [
              0.18823529411764706,
              "rgb(71,28,72)"
             ],
             [
              0.25098039215686274,
              "rgb(97,30,82)"
             ],
             [
              0.3137254901960784,
              "rgb(123,30,89)"
             ],
             [
              0.3764705882352941,
              "rgb(150,27,91)"
             ],
             [
              0.4392156862745098,
              "rgb(177,22,88)"
             ],
             [
              0.5019607843137255,
              "rgb(203,26,79)"
             ],
             [
              0.5647058823529412,
              "rgb(223,47,67)"
             ],
             [
              0.6274509803921569,
              "rgb(236,76,61)"
             ],
             [
              0.6901960784313725,
              "rgb(242,107,73)"
             ],
             [
              0.7529411764705882,
              "rgb(244,135,95)"
             ],
             [
              0.8156862745098039,
              "rgb(245,162,122)"
             ],
             [
              0.8784313725490196,
              "rgb(246,188,153)"
             ],
             [
              0.9411764705882353,
              "rgb(247,212,187)"
             ],
             [
              1,
              "rgb(250,234,220)"
             ]
            ],
            "type": "surface"
           }
          ],
          "table": [
           {
            "cells": {
             "fill": {
              "color": "rgb(231,231,240)"
             },
             "line": {
              "color": "white"
             }
            },
            "header": {
             "fill": {
              "color": "rgb(183,183,191)"
             },
             "line": {
              "color": "white"
             }
            },
            "type": "table"
           }
          ]
         },
         "layout": {
          "annotationdefaults": {
           "arrowcolor": "rgb(67,103,167)"
          },
          "autotypenumbers": "strict",
          "coloraxis": {
           "colorbar": {
            "outlinewidth": 0,
            "tickcolor": "rgb(36,36,36)",
            "ticklen": 8,
            "ticks": "outside",
            "tickwidth": 2
           }
          },
          "colorscale": {
           "sequential": [
            [
             0,
             "rgb(2,4,25)"
            ],
            [
             0.06274509803921569,
             "rgb(24,15,41)"
            ],
            [
             0.12549019607843137,
             "rgb(47,23,57)"
            ],
            [
             0.18823529411764706,
             "rgb(71,28,72)"
            ],
            [
             0.25098039215686274,
             "rgb(97,30,82)"
            ],
            [
             0.3137254901960784,
             "rgb(123,30,89)"
            ],
            [
             0.3764705882352941,
             "rgb(150,27,91)"
            ],
            [
             0.4392156862745098,
             "rgb(177,22,88)"
            ],
            [
             0.5019607843137255,
             "rgb(203,26,79)"
            ],
            [
             0.5647058823529412,
             "rgb(223,47,67)"
            ],
            [
             0.6274509803921569,
             "rgb(236,76,61)"
            ],
            [
             0.6901960784313725,
             "rgb(242,107,73)"
            ],
            [
             0.7529411764705882,
             "rgb(244,135,95)"
            ],
            [
             0.8156862745098039,
             "rgb(245,162,122)"
            ],
            [
             0.8784313725490196,
             "rgb(246,188,153)"
            ],
            [
             0.9411764705882353,
             "rgb(247,212,187)"
            ],
            [
             1,
             "rgb(250,234,220)"
            ]
           ],
           "sequentialminus": [
            [
             0,
             "rgb(2,4,25)"
            ],
            [
             0.06274509803921569,
             "rgb(24,15,41)"
            ],
            [
             0.12549019607843137,
             "rgb(47,23,57)"
            ],
            [
             0.18823529411764706,
             "rgb(71,28,72)"
            ],
            [
             0.25098039215686274,
             "rgb(97,30,82)"
            ],
            [
             0.3137254901960784,
             "rgb(123,30,89)"
            ],
            [
             0.3764705882352941,
             "rgb(150,27,91)"
            ],
            [
             0.4392156862745098,
             "rgb(177,22,88)"
            ],
            [
             0.5019607843137255,
             "rgb(203,26,79)"
            ],
            [
             0.5647058823529412,
             "rgb(223,47,67)"
            ],
            [
             0.6274509803921569,
             "rgb(236,76,61)"
            ],
            [
             0.6901960784313725,
             "rgb(242,107,73)"
            ],
            [
             0.7529411764705882,
             "rgb(244,135,95)"
            ],
            [
             0.8156862745098039,
             "rgb(245,162,122)"
            ],
            [
             0.8784313725490196,
             "rgb(246,188,153)"
            ],
            [
             0.9411764705882353,
             "rgb(247,212,187)"
            ],
            [
             1,
             "rgb(250,234,220)"
            ]
           ]
          },
          "colorway": [
           "rgb(76,114,176)",
           "rgb(221,132,82)",
           "rgb(85,168,104)",
           "rgb(196,78,82)",
           "rgb(129,114,179)",
           "rgb(147,120,96)",
           "rgb(218,139,195)",
           "rgb(140,140,140)",
           "rgb(204,185,116)",
           "rgb(100,181,205)"
          ],
          "font": {
           "color": "rgb(36,36,36)"
          },
          "geo": {
           "bgcolor": "white",
           "lakecolor": "white",
           "landcolor": "rgb(234,234,242)",
           "showlakes": true,
           "showland": true,
           "subunitcolor": "white"
          },
          "hoverlabel": {
           "align": "left"
          },
          "hovermode": "closest",
          "paper_bgcolor": "white",
          "plot_bgcolor": "rgb(234,234,242)",
          "polar": {
           "angularaxis": {
            "gridcolor": "white",
            "linecolor": "white",
            "showgrid": true,
            "ticks": ""
           },
           "bgcolor": "rgb(234,234,242)",
           "radialaxis": {
            "gridcolor": "white",
            "linecolor": "white",
            "showgrid": true,
            "ticks": ""
           }
          },
          "scene": {
           "xaxis": {
            "backgroundcolor": "rgb(234,234,242)",
            "gridcolor": "white",
            "gridwidth": 2,
            "linecolor": "white",
            "showbackground": true,
            "showgrid": true,
            "ticks": "",
            "zerolinecolor": "white"
           },
           "yaxis": {
            "backgroundcolor": "rgb(234,234,242)",
            "gridcolor": "white",
            "gridwidth": 2,
            "linecolor": "white",
            "showbackground": true,
            "showgrid": true,
            "ticks": "",
            "zerolinecolor": "white"
           },
           "zaxis": {
            "backgroundcolor": "rgb(234,234,242)",
            "gridcolor": "white",
            "gridwidth": 2,
            "linecolor": "white",
            "showbackground": true,
            "showgrid": true,
            "ticks": "",
            "zerolinecolor": "white"
           }
          },
          "shapedefaults": {
           "fillcolor": "rgb(67,103,167)",
           "line": {
            "width": 0
           },
           "opacity": 0.5
          },
          "ternary": {
           "aaxis": {
            "gridcolor": "white",
            "linecolor": "white",
            "showgrid": true,
            "ticks": ""
           },
           "baxis": {
            "gridcolor": "white",
            "linecolor": "white",
            "showgrid": true,
            "ticks": ""
           },
           "bgcolor": "rgb(234,234,242)",
           "caxis": {
            "gridcolor": "white",
            "linecolor": "white",
            "showgrid": true,
            "ticks": ""
           }
          },
          "xaxis": {
           "automargin": true,
           "gridcolor": "white",
           "linecolor": "white",
           "showgrid": true,
           "ticks": "",
           "title": {
            "standoff": 15
           },
           "zerolinecolor": "white"
          },
          "yaxis": {
           "automargin": true,
           "gridcolor": "white",
           "linecolor": "white",
           "showgrid": true,
           "ticks": "",
           "title": {
            "standoff": 15
           },
           "zerolinecolor": "white"
          }
         }
        },
        "title": {
         "text": "Number of Articles per Week for foxcrime",
         "x": 0.5
        },
        "xaxis": {
         "anchor": "y",
         "domain": [
          0,
          1
         ],
         "title": {
          "text": "Week Starting"
         }
        },
        "yaxis": {
         "anchor": "x",
         "domain": [
          0,
          1
         ],
         "title": {
          "text": "Number of Articles"
         }
        }
       }
      }
     },
     "metadata": {},
     "output_type": "display_data"
    }
   ],
   "source": [
    "site = \"foxcrime\"\n",
    "file_path_json = \"data/\" + site + \"/articles_new.json\"\n",
    "df_json = open_json(file_path_json)\n",
    "df_json = cleanDF(df_json)\n",
    "\n",
    "file_path_csv = \"data/\" + site + \"/urls_cleaned.csv\"\n",
    "df_csv = open_csv(file_path_csv)\n",
    "\n",
    "graphDF(df_json, df_csv, site)\n",
    "\n",
    "# save the file\n",
    "# df_json.to_csv(\"data/articles_all/articles\" + site +\".csv\", index=False)\n",
    "df_json.to_json(\"data/articles_all/articles\" + site +\".json\", orient='records', lines=True)"
   ]
  },
  {
   "cell_type": "code",
   "execution_count": 37,
   "metadata": {},
   "outputs": [],
   "source": [
    "import spacy \n",
    "from spacy.lang.en.stop_words import STOP_WORDS\n",
    "\n",
    "df_title = df_json[[\"title\", \"description\"]].copy()\n",
    "\n",
    "df_title.dropna(inplace=True)\n",
    "\n",
    "# parse the title and description into lower case\n",
    "df_title[\"title\"] = df_title[\"title\"].str.lower()\n",
    "df_title[\"description\"] = df_title[\"description\"].str.lower()\n",
    "\n",
    "# remove the punctuation\n",
    "df_title[\"title\"] = df_title[\"title\"].str.replace(r'[^\\w\\s]','')\n",
    "df_title[\"description\"] = df_title[\"description\"].str.replace(r'[^\\w\\s]','')\n",
    "\n",
    "# remove the stop words\n",
    "df_title[\"title\"] = df_title[\"title\"].apply(lambda x: \" \".join([word for word in x.split() if word not in STOP_WORDS]))\n",
    "df_title[\"description\"] = df_title[\"description\"].apply(lambda x: \" \".join([word for word in x.split() if word not in STOP_WORDS]))\n",
    "\n",
    "# remove the numbers\n",
    "df_title[\"title\"] = df_title[\"title\"].str.replace(r'\\d+', '')\n",
    "df_title[\"description\"] = df_title[\"description\"].str.replace(r'\\d+', '')\n",
    "\n",
    "\n",
    "\n"
   ]
  },
  {
   "cell_type": "code",
   "execution_count": 41,
   "metadata": {},
   "outputs": [],
   "source": [
    "from collections import Counter\n",
    "\n",
    "# Function to count word frequencies\n",
    "def count_word_frequencies(text):\n",
    "    # Split the text into words and count the occurrences of each word\n",
    "    word_counts = Counter(text.split())\n",
    "    return word_counts\n",
    "\n",
    "# Apply the function to the title and description columns\n",
    "df_title[\"title_word_counts\"] = df_title[\"title\"].apply(count_word_frequencies)\n",
    "df_title[\"description_word_counts\"] = df_title[\"description\"].apply(count_word_frequencies)\n",
    "\n",
    "# Display the DataFrame with word counts\n",
    "# print(df_title[[\"title\", \"title_word_counts\", \"description\", \"description_word_counts\"]].head())\n"
   ]
  },
  {
   "cell_type": "code",
   "execution_count": 42,
   "metadata": {},
   "outputs": [
    {
     "name": "stdout",
     "output_type": "stream",
     "text": [
      "Top words related to crime:\n",
      "police: 580\n",
      "suspect: 222\n",
      "shooting: 200\n",
      "murder: 180\n",
      "allegedly: 150\n",
      "arrested: 147\n",
      "charged: 132\n",
      "shot: 124\n",
      "accused: 113\n",
      "death: 107\n",
      "killed: 103\n",
      "officer: 88\n",
      "missing: 88\n",
      "dead: 80\n",
      "crime: 78\n",
      "arrest: 75\n",
      "report: 71\n",
      "officers: 65\n",
      "killing: 63\n",
      "case: 59\n",
      "guilty: 55\n",
      "murders:: 53\n",
      "alleged: 51\n",
      "trial: 50\n",
      "charges: 50\n",
      "prison: 48\n",
      "injured: 47\n",
      "fentanyl: 46\n",
      "attack: 44\n",
      "gun: 43\n",
      "sentenced: 42\n",
      "crash: 42\n",
      "killer: 42\n",
      "suspects: 41\n",
      "dead,: 41\n",
      "authorities: 40\n",
      "convicted: 39\n",
      "victim: 38\n",
      "pleads: 35\n",
      "dies: 35\n",
      "fatally: 34\n",
      "armed: 34\n",
      "shooting:: 34\n",
      "deputy: 33\n",
      "cops: 32\n"
     ]
    }
   ],
   "source": [
    "from collections import Counter\n",
    "\n",
    "# Combine all word counts from titles and descriptions\n",
    "all_word_counts = Counter()\n",
    "for index, row in df_title.iterrows():\n",
    "    all_word_counts.update(row[\"title_word_counts\"])\n",
    "    # all_word_counts.update(row[\"description_word_counts\"])\n",
    "\n",
    "# Get the top 50 most common words\n",
    "top_50_words = all_word_counts.most_common(50)\n",
    "top_100_words = all_word_counts.most_common(100)\n",
    "\n",
    "# Define a set of non-crime-related words\n",
    "non_crime_words = {\n",
    "    'new', 'florida', 'texas', 'nyc', 'california', 'says', '2', 'idaho', 'chicago',\n",
    "    'georgia', 'carolina', 'york', 'city', 'video', 'car', 'home', 'years', 'family',\n",
    "    'los', 'mom', 'angeles', 'north', 'men', 'state', 'judge', 'officials', '4', 'house',\n",
    "    'near', 'people', 'sex', 'virginia', 'university', 'court', 'philadelphia', 'fire',\n",
    "    'subway', 'nypd', '1', 'arizona', 'washington', 'women', 'school', 'teen', '1', '2', '3',\n",
    "    'mother', 'woman', 'shows', 'girl', 'driver', 'student', 'child', 'search', 'leaves', 'found',\n",
    "    'man', ':', ','\n",
    "}\n",
    "\n",
    "# Filter the top words list to exclude non-crime-related words\n",
    "top_words_filtered = [(word, count) for word, count in top_100_words if word not in non_crime_words]\n",
    "\n",
    "# Print the filtered list\n",
    "print(\"Top words related to crime:\")\n",
    "for word, count in top_words_filtered:\n",
    "    print(f\"{word}: {count}\")\n",
    "\n",
    "\n",
    "# # Print the top 50 words with their counts\n",
    "# print(\"Top 50 most frequent words:\")\n",
    "# for word, count in top_50_words:\n",
    "#     print(f\"{word}: {count}\")\n",
    "\n",
    "# # Print the top 100 words with their counts\n",
    "# print(\"Top 100 most frequent words:\")\n",
    "# for word, count in top_100_words:\n",
    "#     print(f\"{word}: {count}\")"
   ]
  },
  {
   "cell_type": "code",
   "execution_count": 46,
   "metadata": {},
   "outputs": [
    {
     "name": "stdout",
     "output_type": "stream",
     "text": [
      "['police', 'suspect', 'shoot', 'murder', 'allegedly', 'arrest', 'charge', 'shot', 'accuse', 'death', 'kill', 'officer', 'miss', 'dead', 'crime', 'arrest', 'report', 'officer', 'kill', 'case', 'guilty', 'murder', ':', 'alleged', 'trial', 'charge', 'prison', 'injure', 'fentanyl', 'attack', 'gun', 'sentence', 'crash', 'killer', 'suspect', 'dead', ',', 'authority', 'convict', 'victim', 'plead', 'die', 'fatally', 'armed', 'shooting', ':', 'deputy', 'cop'] 48\n"
     ]
    }
   ],
   "source": [
    "# Load English tokenizer, tagger, \n",
    "# parser, NER and word vectors \n",
    "nlp = spacy.load(\"en_core_web_sm\") \n",
    "\n",
    "# process top_words_filtered into a string\n",
    "top_words = [word for word, count in top_words_filtered]\n",
    "top_words_str = \" \".join(top_words)\n",
    "\n",
    "# # Process whole documents \n",
    "# text = (\"\"\"My name is Shaurya Uppal. I enjoy writing \n",
    "# \t\tarticles on GeeksforGeeks checkout my other \n",
    "# \t\tarticle by going to my profile section.\"\"\") \n",
    "\n",
    "# doc = nlp(text) \n",
    "\n",
    "doc = nlp(top_words_str)\n",
    "\n",
    "# for token in doc: \n",
    "#     # print(token, token.lemma_)\n",
    "#     print(token.text, token.lemma_, token.pos_, token.tag_, token.dep_,\n",
    "# \t\t\ttoken.shape_, token.is_alpha, token.is_stop)\n",
    "    \n",
    "crime_words = [token.lemma_ for token in doc]\n",
    "print(crime_words, len(crime_words))"
   ]
  }
 ],
 "metadata": {
  "kernelspec": {
   "display_name": "venv",
   "language": "python",
   "name": "python3"
  },
  "language_info": {
   "codemirror_mode": {
    "name": "ipython",
    "version": 3
   },
   "file_extension": ".py",
   "mimetype": "text/x-python",
   "name": "python",
   "nbconvert_exporter": "python",
   "pygments_lexer": "ipython3",
   "version": "3.12.1"
  }
 },
 "nbformat": 4,
 "nbformat_minor": 2
}
